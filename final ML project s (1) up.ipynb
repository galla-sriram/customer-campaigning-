{
 "cells": [
  {
   "cell_type": "code",
   "execution_count": 1,
   "id": "39fe720d-9e0e-42f7-aec7-b37387de3453",
   "metadata": {},
   "outputs": [
    {
     "name": "stdout",
     "output_type": "stream",
     "text": [
      " Cleaned DataFrame Preview \n",
      "     id  year_birth   education marital_status   income  kidhome  teenhome  \\\n",
      "0  5524        1957  Graduation         Single  58138.0        0         0   \n",
      "1  2174        1954  Graduation         Single  46344.0        1         1   \n",
      "2  4141        1965  Graduation       Together  71613.0        0         0   \n",
      "3  6182        1984  Graduation       Together  26646.0        1         0   \n",
      "4  5324        1981         PhD        Married  58293.0        1         0   \n",
      "\n",
      "  dt_customer  recency  mntwines  ...  acceptedcmp5  acceptedcmp1  \\\n",
      "0  2012-09-04       58       635  ...             0             0   \n",
      "1  2014-03-08       38        11  ...             0             0   \n",
      "2  2013-08-21       26       426  ...             0             0   \n",
      "3  2014-02-10       26        11  ...             0             0   \n",
      "4  2014-01-19       94       173  ...             0             0   \n",
      "\n",
      "   acceptedcmp2  complain  z_costcontact  z_revenue  response  \\\n",
      "0             0         0              3         11         1   \n",
      "1             0         0              3         11         0   \n",
      "2             0         0              3         11         0   \n",
      "3             0         0              3         11         0   \n",
      "4             0         0              3         11         0   \n",
      "\n",
      "   education_encoded  marital_status_encoded  dt_customer_encoded  \n",
      "0                  2                       4                   36  \n",
      "1                  2                       4                  555  \n",
      "2                  2                       5                  369  \n",
      "3                  2                       5                  531  \n",
      "4                  4                       3                  510  \n",
      "\n",
      "[5 rows x 32 columns]\n"
     ]
    }
   ],
   "source": [
    "import pandas as pd\n",
    "from sklearn.preprocessing import LabelEncoder\n",
    "\n",
    "df = pd.read_excel(r'C:\\Users\\Shivani\\Downloads\\ML marketing_campaign.xlsx')\n",
    "\n",
    "#  Clean column names \n",
    "df.columns = (\n",
    "    df.columns\n",
    "    .str.strip()\n",
    "    .str.lower()\n",
    "    .str.replace(r\"[^\\w\\s]\", \"\", regex=True)  # remove punctuation\n",
    "    .str.replace(r\"\\s+\", \"_\", regex=True)     # replace spaces with underscores\n",
    ")\n",
    "\n",
    "# Convert all object-type (text) columns into numerical using label encoding \n",
    "label_encoder = LabelEncoder()\n",
    "for column in df.select_dtypes(include='object').columns:\n",
    "    df[column + \"_encoded\"] = label_encoder.fit_transform(df[column].astype(str))\n",
    "\n",
    "# Preview cleaned & encoded data \n",
    "print(\" Cleaned DataFrame Preview \")\n",
    "print(df.head())\n",
    "\n",
    "# df.to_csv(\"cleaned_survey_data.csv\", index=False)"
   ]
  },
  {
   "cell_type": "code",
   "execution_count": 3,
   "id": "ef51608c-28d4-48a4-9fd7-fb6cbdf48955",
   "metadata": {},
   "outputs": [
    {
     "data": {
      "text/plain": [
       "(2240, 32)"
      ]
     },
     "execution_count": 3,
     "metadata": {},
     "output_type": "execute_result"
    }
   ],
   "source": [
    "df.shape"
   ]
  },
  {
   "cell_type": "code",
   "execution_count": 5,
   "id": "f27265e0-fa2f-48b7-a8f4-a5322e734cbc",
   "metadata": {},
   "outputs": [
    {
     "data": {
      "text/plain": [
       "Index(['id', 'year_birth', 'education', 'marital_status', 'income', 'kidhome',\n",
       "       'teenhome', 'dt_customer', 'recency', 'mntwines', 'mntfruits',\n",
       "       'mntmeatproducts', 'mntfishproducts', 'mntsweetproducts',\n",
       "       'mntgoldprods', 'numdealspurchases', 'numwebpurchases',\n",
       "       'numcatalogpurchases', 'numstorepurchases', 'numwebvisitsmonth',\n",
       "       'acceptedcmp3', 'acceptedcmp4', 'acceptedcmp5', 'acceptedcmp1',\n",
       "       'acceptedcmp2', 'complain', 'z_costcontact', 'z_revenue', 'response',\n",
       "       'education_encoded', 'marital_status_encoded', 'dt_customer_encoded'],\n",
       "      dtype='object')"
      ]
     },
     "execution_count": 5,
     "metadata": {},
     "output_type": "execute_result"
    }
   ],
   "source": [
    "df.columns"
   ]
  },
  {
   "cell_type": "code",
   "execution_count": 7,
   "id": "49652221-8d44-42ad-9c7f-4ae6886b3aa0",
   "metadata": {},
   "outputs": [
    {
     "data": {
      "text/plain": [
       "id                         0\n",
       "year_birth                 0\n",
       "education                  0\n",
       "marital_status             0\n",
       "income                    24\n",
       "kidhome                    0\n",
       "teenhome                   0\n",
       "dt_customer                0\n",
       "recency                    0\n",
       "mntwines                   0\n",
       "mntfruits                  0\n",
       "mntmeatproducts            0\n",
       "mntfishproducts            0\n",
       "mntsweetproducts           0\n",
       "mntgoldprods               0\n",
       "numdealspurchases          0\n",
       "numwebpurchases            0\n",
       "numcatalogpurchases        0\n",
       "numstorepurchases          0\n",
       "numwebvisitsmonth          0\n",
       "acceptedcmp3               0\n",
       "acceptedcmp4               0\n",
       "acceptedcmp5               0\n",
       "acceptedcmp1               0\n",
       "acceptedcmp2               0\n",
       "complain                   0\n",
       "z_costcontact              0\n",
       "z_revenue                  0\n",
       "response                   0\n",
       "education_encoded          0\n",
       "marital_status_encoded     0\n",
       "dt_customer_encoded        0\n",
       "dtype: int64"
      ]
     },
     "execution_count": 7,
     "metadata": {},
     "output_type": "execute_result"
    }
   ],
   "source": [
    "df.isnull().sum()"
   ]
  },
  {
   "cell_type": "code",
   "execution_count": 9,
   "id": "06395c51-791f-445a-a938-d61e3755bebc",
   "metadata": {},
   "outputs": [],
   "source": [
    "drop_cols = ['id', 'dt_customer', 'z_costcontact', 'z_revenue']\n",
    "df = df.drop(columns=drop_cols)"
   ]
  },
  {
   "cell_type": "code",
   "execution_count": 11,
   "id": "783c5f17-4427-41d6-8019-5f4d8675ca8d",
   "metadata": {},
   "outputs": [
    {
     "name": "stdout",
     "output_type": "stream",
     "text": [
      "(2240, 37)\n",
      "Index(['year_birth', 'income', 'kidhome', 'teenhome', 'recency', 'mntwines',\n",
      "       'mntfruits', 'mntmeatproducts', 'mntfishproducts', 'mntsweetproducts',\n",
      "       'mntgoldprods', 'numdealspurchases', 'numwebpurchases',\n",
      "       'numcatalogpurchases', 'numstorepurchases', 'numwebvisitsmonth',\n",
      "       'acceptedcmp3', 'acceptedcmp4', 'acceptedcmp5', 'acceptedcmp1',\n",
      "       'acceptedcmp2', 'complain', 'response', 'education_encoded',\n",
      "       'marital_status_encoded', 'dt_customer_encoded', 'education_Basic',\n",
      "       'education_Graduation', 'education_Master', 'education_PhD',\n",
      "       'marital_status_Alone', 'marital_status_Divorced',\n",
      "       'marital_status_Married', 'marital_status_Single',\n",
      "       'marital_status_Together', 'marital_status_Widow',\n",
      "       'marital_status_YOLO'],\n",
      "      dtype='object')\n"
     ]
    }
   ],
   "source": [
    "categorical_cols = ['education', 'marital_status']\n",
    "df_encoded = pd.get_dummies(df, columns=categorical_cols, drop_first=True)\n",
    "\n",
    "# Check the new shape and columns\n",
    "print(df_encoded.shape)\n",
    "print(df_encoded.columns)"
   ]
  },
  {
   "cell_type": "code",
   "execution_count": 13,
   "id": "69342ad7-978e-4b0a-96c7-14f72fdff676",
   "metadata": {},
   "outputs": [
    {
     "data": {
      "text/plain": [
       "Index(['year_birth', 'income', 'kidhome', 'teenhome', 'recency', 'mntwines',\n",
       "       'mntfruits', 'mntmeatproducts', 'mntfishproducts', 'mntsweetproducts',\n",
       "       'mntgoldprods', 'numdealspurchases', 'numwebpurchases',\n",
       "       'numcatalogpurchases', 'numstorepurchases', 'numwebvisitsmonth',\n",
       "       'acceptedcmp3', 'acceptedcmp4', 'acceptedcmp5', 'acceptedcmp1',\n",
       "       'acceptedcmp2', 'complain', 'response', 'education_encoded',\n",
       "       'marital_status_encoded', 'dt_customer_encoded', 'education_Basic',\n",
       "       'education_Graduation', 'education_Master', 'education_PhD',\n",
       "       'marital_status_Alone', 'marital_status_Divorced',\n",
       "       'marital_status_Married', 'marital_status_Single',\n",
       "       'marital_status_Together', 'marital_status_Widow',\n",
       "       'marital_status_YOLO'],\n",
       "      dtype='object')"
      ]
     },
     "execution_count": 13,
     "metadata": {},
     "output_type": "execute_result"
    }
   ],
   "source": [
    "df_encoded.columns\n"
   ]
  },
  {
   "cell_type": "code",
   "execution_count": 15,
   "id": "022804c1-25c5-4e8c-856e-29f786b5aea8",
   "metadata": {},
   "outputs": [
    {
     "name": "stderr",
     "output_type": "stream",
     "text": [
      "C:\\Users\\Shivani\\AppData\\Local\\Temp\\ipykernel_10836\\1031882184.py:1: FutureWarning: A value is trying to be set on a copy of a DataFrame or Series through chained assignment using an inplace method.\n",
      "The behavior will change in pandas 3.0. This inplace method will never work because the intermediate object on which we are setting values always behaves as a copy.\n",
      "\n",
      "For example, when doing 'df[col].method(value, inplace=True)', try using 'df.method({col: value}, inplace=True)' or df[col] = df[col].method(value) instead, to perform the operation inplace on the original object.\n",
      "\n",
      "\n",
      "  df_encoded['income'].fillna(df_encoded['income'].median(), inplace=True)\n"
     ]
    }
   ],
   "source": [
    "df_encoded['income'].fillna(df_encoded['income'].median(), inplace=True)\n"
   ]
  },
  {
   "cell_type": "code",
   "execution_count": 17,
   "id": "7393cffb-0f8e-458f-a1b9-06d5b1a51b73",
   "metadata": {},
   "outputs": [
    {
     "name": "stdout",
     "output_type": "stream",
     "text": [
      "Accuracy Score: 0.8683035714285714\n",
      "\n",
      "Confusion Matrix:\n",
      " [[366  13]\n",
      " [ 46  23]]\n",
      "\n",
      "Classification Report:\n",
      "               precision    recall  f1-score   support\n",
      "\n",
      "           0       0.89      0.97      0.93       379\n",
      "           1       0.64      0.33      0.44        69\n",
      "\n",
      "    accuracy                           0.87       448\n",
      "   macro avg       0.76      0.65      0.68       448\n",
      "weighted avg       0.85      0.87      0.85       448\n",
      "\n"
     ]
    }
   ],
   "source": [
    "from sklearn.model_selection import train_test_split\n",
    "from sklearn.preprocessing import StandardScaler\n",
    "from sklearn.linear_model import LogisticRegression\n",
    "from sklearn.metrics import classification_report, confusion_matrix, accuracy_score\n",
    "\n",
    "X = df_encoded.drop('response', axis=1)\n",
    "y = df_encoded['response']\n",
    "\n",
    "# 3. Train-Test Split\n",
    "X_train, X_test, y_train, y_test = train_test_split(X, y, test_size=0.2, random_state=42)\n",
    "\n",
    "# 4. Feature Scaling (Logistic Regression benefits from this)\n",
    "scaler = StandardScaler()\n",
    "X_train_scaled = scaler.fit_transform(X_train)\n",
    "X_test_scaled = scaler.transform(X_test)\n",
    "\n",
    "# 5. Train the Logistic Regression model\n",
    "model = LogisticRegression()\n",
    "model.fit(X_train_scaled, y_train)\n",
    "\n",
    "# 6. Make predictions\n",
    "y_pred = model.predict(X_test_scaled)\n",
    "\n",
    "# 7. Evaluation\n",
    "print(\"Accuracy Score:\", accuracy_score(y_test, y_pred))\n",
    "print(\"\\nConfusion Matrix:\\n\", confusion_matrix(y_test, y_pred))\n",
    "print(\"\\nClassification Report:\\n\", classification_report(y_test, y_pred))"
   ]
  },
  {
   "cell_type": "code",
   "execution_count": 37,
   "id": "99f5ea00-b59d-4e11-b9df-c8efe0628005",
   "metadata": {},
   "outputs": [
    {
     "name": "stdout",
     "output_type": "stream",
     "text": [
      "Model loaded ✅\n"
     ]
    }
   ],
   "source": [
    "import joblib\n",
    "joblib.dump(model, 'customer_response_model.joblib')\n",
    "print(\"Model loaded ✅\")"
   ]
  },
  {
   "cell_type": "code",
   "execution_count": 53,
   "id": "495bdfa1-20b3-4067-a06b-8d39ec03536e",
   "metadata": {},
   "outputs": [
    {
     "name": "stdout",
     "output_type": "stream",
     "text": [
      "✅ Scaler saved as 'scaler.joblib'\n"
     ]
    }
   ],
   "source": [
    "from sklearn.preprocessing import StandardScaler\n",
    "import joblib\n",
    "\n",
    "# Define features (excluding the target 'response')\n",
    "feature_names = [\n",
    "    'year_birth', 'income', 'kidhome', 'teenhome', 'recency',\n",
    "    'mntwines', 'mntfruits', 'mntmeatproducts', 'mntfishproducts',\n",
    "    'mntsweetproducts', 'mntgoldprods', 'numdealspurchases',\n",
    "    'numwebpurchases', 'numcatalogpurchases', 'numstorepurchases',\n",
    "    'numwebvisitsmonth', 'acceptedcmp3', 'acceptedcmp4', 'acceptedcmp5',\n",
    "    'acceptedcmp1', 'acceptedcmp2', 'complain', 'education_encoded',\n",
    "    'marital_status_encoded', 'dt_customer_encoded', 'education_Basic',\n",
    "    'education_Graduation', 'education_Master', 'education_PhD',\n",
    "    'marital_status_Alone', 'marital_status_Divorced',\n",
    "    'marital_status_Married', 'marital_status_Single',\n",
    "    'marital_status_Together', 'marital_status_Widow',\n",
    "    'marital_status_YOLO'\n",
    "]\n",
    "\n",
    "# Extract features for scaling\n",
    "X = df_encoded[feature_names]\n",
    "\n",
    "# Fit the scaler\n",
    "scaler = StandardScaler()\n",
    "scaler.fit(X)\n",
    "\n",
    "# Save the scaler\n",
    "joblib.dump(scaler, 'scaler.joblib')\n",
    "print(\"✅ Scaler saved as 'scaler.joblib'\")\n",
    "\n",
    "\n"
   ]
  },
  {
   "cell_type": "code",
   "execution_count": 59,
   "id": "adc9710f-3a51-47a0-affb-3057dfcf6aa5",
   "metadata": {},
   "outputs": [
    {
     "name": "stdout",
     "output_type": "stream",
     "text": [
      "✅ Streamlit app saved as 'customer_response_app.py'\n"
     ]
    }
   ],
   "source": [
    "streamlit_code = r\"\"\"\n",
    "import streamlit as st\n",
    "import pandas as pd\n",
    "import joblib\n",
    "from sklearn.preprocessing import StandardScaler\n",
    "\n",
    "# Title of the app\n",
    "st.title(\"📊 Customer Response Prediction\")\n",
    "\n",
    "# Load the trained model and scaler\n",
    "model = joblib.load(\"customer_response_model.joblib\")  # Update with your model filename\n",
    "scaler = joblib.load(\"scaler.joblib\")  # Load the scaler used during training\n",
    "\n",
    "# Static dropdown options for education and marital status\n",
    "education_levels = ['Basic', 'Graduation', 'Master', 'PhD']\n",
    "marital_status_options = ['Alone', 'Divorced', 'Married', 'Single', 'Together', 'Widow', 'YOLO']\n",
    "\n",
    "# Feature list (to match scaler joblib)\n",
    "feature_names = [\n",
    "    'year_birth', 'income', 'kidhome', 'teenhome', 'recency',\n",
    "    'mntwines', 'mntfruits', 'mntmeatproducts', 'mntfishproducts',\n",
    "    'mntsweetproducts', 'mntgoldprods', 'numdealspurchases',\n",
    "    'numwebpurchases', 'numcatalogpurchases', 'numstorepurchases',\n",
    "    'numwebvisitsmonth', 'acceptedcmp3', 'acceptedcmp4', 'acceptedcmp5',\n",
    "    'acceptedcmp1', 'acceptedcmp2', 'complain', 'education_encoded',\n",
    "    'marital_status_encoded', 'dt_customer_encoded', 'education_Basic',\n",
    "    'education_Graduation', 'education_Master', 'education_PhD',\n",
    "    'marital_status_Alone', 'marital_status_Divorced',\n",
    "    'marital_status_Married', 'marital_status_Single',\n",
    "    'marital_status_Together', 'marital_status_Widow',\n",
    "    'marital_status_YOLO'\n",
    "]\n",
    "\n",
    "# Initialize user input dictionary\n",
    "user_input = {}\n",
    "\n",
    "# Numeric features\n",
    "numeric_features = [\n",
    "    'year_birth', 'income', 'kidhome', 'teenhome', 'recency',\n",
    "    'mntwines', 'mntfruits', 'mntmeatproducts', 'mntfishproducts',\n",
    "    'mntsweetproducts', 'mntgoldprods', 'numdealspurchases',\n",
    "    'numwebpurchases', 'numcatalogpurchases', 'numstorepurchases',\n",
    "    'numwebvisitsmonth', 'acceptedcmp3', 'acceptedcmp4', 'acceptedcmp5',\n",
    "    'acceptedcmp1', 'acceptedcmp2', 'complain', 'education_encoded',\n",
    "    'marital_status_encoded', 'dt_customer_encoded'\n",
    "]\n",
    "\n",
    "# Input for numeric features\n",
    "for feature in numeric_features:\n",
    "    val = st.number_input(f\"{feature}\", value=0.0)  # Default to 0.0\n",
    "    user_input[feature] = val\n",
    "\n",
    "# Dropdown for Education\n",
    "selected_edu = st.selectbox(\"Education\", education_levels)\n",
    "for level in education_levels:\n",
    "    user_input[f\"education_{level}\"] = 1 if level == selected_edu else 0\n",
    "\n",
    "# Dropdown for Marital Status\n",
    "selected_status = st.selectbox(\"Marital Status\", marital_status_options)\n",
    "for status in marital_status_options:\n",
    "    user_input[f\"marital_status_{status}\"] = 1 if status == selected_status else 0\n",
    "\n",
    "# Convert user input into a dataframe\n",
    "input_df = pd.DataFrame([[user_input[feat] for feat in feature_names]], columns=feature_names)\n",
    "\n",
    "# Optional: Scale features (if used during training)\n",
    "input_scaled = scaler.transform(input_df)\n",
    "\n",
    "# Predict button\n",
    "if st.button(\"🔮 Predict\"):\n",
    "    # Predict with the trained model\n",
    "    prediction = model.predict(input_scaled)\n",
    "    pred_label = \"Responded to Campaign\" if prediction[0] == 1 else \"Did Not Respond\"\n",
    "    st.success(f\"✅ Prediction: {pred_label}\")\n",
    "\"\"\"\n",
    "with open(\"customer_response_app.py\", \"w\", encoding=\"utf-8\") as file:\n",
    "    file.write(streamlit_code)\n",
    "\n",
    "print(\"✅ Streamlit app saved as 'customer_response_app.py'\")\n"
   ]
  },
  {
   "cell_type": "code",
   "execution_count": null,
   "id": "f101ff4c-edfe-4c3c-9847-bb60706c829f",
   "metadata": {},
   "outputs": [],
   "source": [
    "!streamlit run customer_response_app.py"
   ]
  },
  {
   "cell_type": "code",
   "execution_count": null,
   "id": "8df5584b-e1e7-486c-9d9e-978c48f5e98c",
   "metadata": {},
   "outputs": [],
   "source": []
  }
 ],
 "metadata": {
  "kernelspec": {
   "display_name": "Python 3 (ipykernel)",
   "language": "python",
   "name": "python3"
  },
  "language_info": {
   "codemirror_mode": {
    "name": "ipython",
    "version": 3
   },
   "file_extension": ".py",
   "mimetype": "text/x-python",
   "name": "python",
   "nbconvert_exporter": "python",
   "pygments_lexer": "ipython3",
   "version": "3.12.4"
  }
 },
 "nbformat": 4,
 "nbformat_minor": 5
}
